{
  "nbformat": 4,
  "nbformat_minor": 0,
  "metadata": {
    "colab": {
      "provenance": []
    },
    "kernelspec": {
      "name": "python3",
      "display_name": "Python 3"
    },
    "language_info": {
      "name": "python"
    }
  },
  "cells": [
    {
      "cell_type": "code",
      "source": [
        "import sys\n",
        "sys.path.append('/content/drive/MyDrive/Colab_Notebooks/SI 507/SI507_Final_project_code/')"
      ],
      "metadata": {
        "id": "iLgSW6ukOtGp"
      },
      "execution_count": null,
      "outputs": []
    },
    {
      "cell_type": "markdown",
      "source": [
        "Secrets files with API key info"
      ],
      "metadata": {
        "id": "YK4henPbITSN"
      }
    },
    {
      "cell_type": "code",
      "source": [
        "import secrets_t\n",
        "import secrets_r"
      ],
      "metadata": {
        "id": "F6yKJVrBIPt5"
      },
      "execution_count": null,
      "outputs": []
    },
    {
      "cell_type": "code",
      "execution_count": null,
      "metadata": {
        "id": "5gKi9FxoDQCz"
      },
      "outputs": [],
      "source": [
        "import os\n",
        "import math\n",
        "import json\n",
        "import requests\n",
        "from requests_oauthlib import OAuth1\n",
        "from datetime import datetime"
      ]
    },
    {
      "cell_type": "code",
      "source": [
        "client_key = secrets_t.TWITTER_API_KEY\n",
        "client_secret = secrets_t.TWITTER_API_KEY_SECRET\n",
        "access_token = secrets_t.TWITTER_ACCESS_TOKEN\n",
        "access_token_secret = secrets_t.TWITTER_ACCESS_TOKEN_SECRET"
      ],
      "metadata": {
        "id": "l395B0OkJYOP"
      },
      "execution_count": null,
      "outputs": []
    },
    {
      "cell_type": "code",
      "source": [
        "oauth = OAuth1(client_key,\n",
        "            client_secret=client_secret,\n",
        "            resource_owner_key=access_token,\n",
        "            resource_owner_secret=access_token_secret)"
      ],
      "metadata": {
        "id": "KE0eib0NJzii"
      },
      "execution_count": null,
      "outputs": []
    },
    {
      "cell_type": "markdown",
      "source": [
        "Just for Testing!"
      ],
      "metadata": {
        "id": "WwBai0L3KeVa"
      }
    },
    {
      "cell_type": "code",
      "source": [
        "endpoint_url = 'https://api.twitter.com/1.1/search/tweets.json'\n",
        "\n",
        "params = {'q': 'worldcupqatar'}\n",
        "response_twitter = requests.get(endpoint_url, \n",
        "                        params=params, \n",
        "                        auth=oauth)\n",
        "print (response_twitter.status_code)\n",
        "# print(response.json()['statuses'])"
      ],
      "metadata": {
        "colab": {
          "base_uri": "https://localhost:8080/"
        },
        "id": "h_Z6VHleKWww",
        "outputId": "ce40e24a-aa83-4965-88cc-8295e2da6021"
      },
      "execution_count": null,
      "outputs": [
        {
          "output_type": "stream",
          "name": "stdout",
          "text": [
            "200\n"
          ]
        }
      ]
    },
    {
      "cell_type": "markdown",
      "source": [
        "Reddit API"
      ],
      "metadata": {
        "id": "4uau1FWg3IzT"
      }
    },
    {
      "cell_type": "code",
      "source": [
        "client_id = secrets_r.personal_use_script\n",
        "secret_token = secrets_r.secret_token\n",
        "reddit_pwd = secrets_r.password"
      ],
      "metadata": {
        "id": "i262wUZW3S6R"
      },
      "execution_count": null,
      "outputs": []
    },
    {
      "cell_type": "code",
      "source": [
        "auth = requests.auth.HTTPBasicAuth(client_id, secret_token)"
      ],
      "metadata": {
        "id": "G59kWVH3PbGI"
      },
      "execution_count": null,
      "outputs": []
    },
    {
      "cell_type": "code",
      "source": [
        "data = {'grant_type': 'password',\n",
        "        'username': 'ClubIntelligent5370',\n",
        "        'password': reddit_pwd}"
      ],
      "metadata": {
        "id": "kpdtgFzQ4h7d"
      },
      "execution_count": null,
      "outputs": []
    },
    {
      "cell_type": "code",
      "source": [
        "headers = {'User-Agent': 'chatterbot507/0.0.1'}\n",
        "\n",
        "# send our request for an OAuth token\n",
        "res = requests.post('https://www.reddit.com/api/v1/access_token',\n",
        "                    auth=auth, data=data, headers=headers)\n",
        "\n",
        "# convert response to JSON and pull access_token value\n",
        "TOKEN = res.json()['access_token']\n",
        "\n",
        "# add authorization to our headers dictionary\n",
        "headers = {**headers, **{'Authorization': f\"bearer {TOKEN}\"}}\n",
        "\n",
        "# while the token is valid (~2 hours) we just add headers=headers to our requests\n",
        "requests.get('https://oauth.reddit.com/api/v1/me', headers=headers)"
      ],
      "metadata": {
        "colab": {
          "base_uri": "https://localhost:8080/"
        },
        "id": "HN1zIkGh65ch",
        "outputId": "25d506e8-8505-4937-9407-fb70023f8c38"
      },
      "execution_count": null,
      "outputs": [
        {
          "output_type": "execute_result",
          "data": {
            "text/plain": [
              "<Response [200]>"
            ]
          },
          "metadata": {},
          "execution_count": 39
        }
      ]
    },
    {
      "cell_type": "code",
      "source": [
        "params = {'q': 'worldcupqatar'}\n",
        "response_reddit = requests.get(\"https://oauth.reddit.com/search?\", params=params,\n",
        "                   headers=headers)\n",
        "\n",
        "# print(res.json()['data']['children'])  # let's see what we get"
      ],
      "metadata": {
        "id": "3hvOMKje7FlP"
      },
      "execution_count": null,
      "outputs": []
    },
    {
      "cell_type": "code",
      "source": [
        "class Tweet:\n",
        "  def __init__(self, record):\n",
        "    self.created_at = record['created_at']\n",
        "    self.id = record['id_str']\n",
        "    self.text = record['text']\n",
        "    try:\n",
        "      self.url = record['entities']['urls'][0]['url']\n",
        "    except IndexError:\n",
        "      self.url = None\n",
        "    self.user = dict()\n",
        "    self.user['user_id'] = record['user']['id_str']\n",
        "    self.user['name'] = record['user']['name']\n",
        "    self.coordinates = record['coordinates']\n",
        "    # self.reply_count = record['reply_count']\n",
        "    self.retweet_count = record['retweet_count']\n",
        "    self.favorite_count = record['favorite_count']\n",
        "    self.hashtags = record['entities']['hashtags']\n"
      ],
      "metadata": {
        "id": "nYamiQFISkfm"
      },
      "execution_count": null,
      "outputs": []
    },
    {
      "cell_type": "code",
      "source": [
        "class Post:\n",
        "  def __init__(self, record):\n",
        "    self.id = record['data']['id']\n",
        "    self.created_utc = record['data']['created_utc']\n",
        "    self.title = record['data']['title']\n",
        "    self.url = record['data']['url']\n",
        "    self.selftext = record['data']['selftext']\n",
        "    self.ups = record['data']['ups']\n",
        "    self.downs = record['data']['downs']\n",
        "    self.upvote_ratio = record['data']['upvote_ratio']\n",
        "    self.num_comments = record['data']['num_comments']\n",
        "    self.score = record['data']['score']\n"
      ],
      "metadata": {
        "id": "MVJlN5lS6c9H"
      },
      "execution_count": null,
      "outputs": []
    },
    {
      "cell_type": "code",
      "source": [
        "def create_cache(object_list, json_cache_path):\n",
        "  \"\"\"Caches all attributes of the Tweet and Post objects in json format\n",
        "\n",
        "  Args:\n",
        "      object_list (List[Tweet/Post]): \n",
        "        List of Tweet/Post objects to cache\n",
        "      cache_file_path (str): \n",
        "        Path to json cache file\n",
        "  \"\"\"\n",
        "  json_data = {}\n",
        "  json_data['cache_creation_time'] = str(datetime.now())\n",
        "  json_data['data'] = dict()\n",
        "  for object in object_list:\n",
        "    json_data['data'][object.id] = object.__dict__\n",
        "  with open(json_cache_path, \"w\") as cfile:\n",
        "    json.dump(json_data, cfile)"
      ],
      "metadata": {
        "id": "yPPL-ZQO9uBA"
      },
      "execution_count": null,
      "outputs": []
    },
    {
      "cell_type": "code",
      "source": [
        "def load_from_cache(json_cache_path):\n",
        "  \"\"\"Loads the objects of Tweet/Post into a json object.\n",
        "\n",
        "  Args:\n",
        "      cache_file_path (str): \n",
        "        Path to json cache file\n",
        "\n",
        "  Returns:\n",
        "      _type_: Dict{Dict{...}}\n",
        "  \"\"\"\n",
        "  if os.path.exists(json_cache_path) and os.path.getsize(json_cache_path) != 0:\n",
        "    with open(json_cache_path, \"r\") as cfile:\n",
        "      json_data = json.load(cfile)\n",
        "  else:\n",
        "    print(\"Please provide a valid json cache\")\n",
        "    return None\n",
        "  return json_data"
      ],
      "metadata": {
        "id": "c4r68fYR_ptI"
      },
      "execution_count": null,
      "outputs": []
    },
    {
      "cell_type": "code",
      "source": [
        "Tweet_list = [Tweet(record) for record in response_twitter.json()['statuses']]"
      ],
      "metadata": {
        "id": "Ah6kT2A23-vy"
      },
      "execution_count": null,
      "outputs": []
    },
    {
      "cell_type": "code",
      "source": [
        "Post_list = [Post(record) for record in response_reddit.json()['data']['children']]"
      ],
      "metadata": {
        "id": "R00Q_Gll9H-X"
      },
      "execution_count": null,
      "outputs": []
    },
    {
      "cell_type": "code",
      "source": [
        "TWITTER_JSON = 'twitter_tweets.json'\n",
        "REDDIT_JSON = 'reddit_posts.json'\n",
        "create_cache(Tweet_list, TWITTER_JSON)\n",
        "create_cache(Post_list, REDDIT_JSON)"
      ],
      "metadata": {
        "id": "Yk8ta_PiDY3i"
      },
      "execution_count": null,
      "outputs": []
    },
    {
      "cell_type": "code",
      "source": [
        "json_twitter = load_from_cache(TWITTER_JSON)\n",
        "json_reddit = load_from_cache(REDDIT_JSON)"
      ],
      "metadata": {
        "id": "Uam2tLIsPNym"
      },
      "execution_count": null,
      "outputs": []
    },
    {
      "cell_type": "code",
      "source": [
        "# def cache_age(cache_time):\n",
        "#   \"\"\"Return time in hours that has passed since cache creation\n",
        "\n",
        "#   Args: \n",
        "#       cache_time (str):\n",
        "#         Time in utc of cache creation\n",
        "  \n",
        "#   Returns:\n",
        "#       _type_: int \n",
        "#   \"\"\"\n",
        "#   time_diff = datetime.now() - datetime.strptime(cache_time)\n",
        "#   return time_diff.total_seconds() / 3600\n",
        "\n",
        "# def create_tweets(json_cache_path):\n",
        "#   cached_json = load_from_cache(json_cache_path)\n",
        "#   if cached_json is None or cache_age(cached_json['cache_creation_time']) > 1:\n",
        "#     params = {'q': 'worldcupqatar'}\n",
        "#     response_twitter = requests.get('https://api.twitter.com/1.1/search/tweets.json', \n",
        "#                             params=params, \n",
        "#                             auth=oauth)\n",
        "#     response_reddit = requests.get(\"https://oauth.reddit.com/search?\", params=params,\n",
        "#                       headers=headers)\n",
        "#     Tweet_list = [Tweet(record) for record in response_twitter.json()['statuses']]\n",
        "#     Post_list = [Post(record) for record in response_reddit.json()['data']['children']]\n",
        "\n",
        "#     with open(json_cache_path, \"r\") as cfile:\n",
        "#       json_data = json.load(cfile)\n",
        "    \n",
        "#     for district in Districts:\n",
        "#       district.RandomLat = json_data[district.name][\"RandomLat\"]    \n",
        "#       district.RandomLong = json_data[district.name][\"RandomLong\"] \n"
      ],
      "metadata": {
        "id": "-4DLiNm4BbI5"
      },
      "execution_count": null,
      "outputs": []
    },
    {
      "cell_type": "markdown",
      "source": [
        "Tree Structure"
      ],
      "metadata": {
        "id": "InPxjX-dQV5C"
      }
    },
    {
      "cell_type": "code",
      "source": [
        "def hotness(time, score):\n",
        "  \"\"\" Takes time in utc and score as arguments\n",
        "      (i.e. (upvotes - downvotes) for reddit and favorite_count for twitter)\n",
        "      and calculates the hotness value of a post\n",
        "  Args:\n",
        "      time: int\n",
        "      score: int\n",
        "  Returns:\n",
        "      __type__: int\n",
        "  \"\"\"\n",
        "  if score <= 0:\n",
        "    return time\n",
        "  else:\n",
        "    return time + math.log10(score)\n",
        "\n",
        "class TreeNode:\n",
        "  def __init__(self, time, comments, reposts, retweets, score, object):\n",
        "    self.nodeVal = tuple(time, comments, reposts, hotness(time, score))\n",
        "    self.object_ref = object\n",
        "    self.left = None\n",
        "    self.right = None\n",
        "\n",
        "class kdTree:\n",
        "  def __init__(self):\n",
        "    self.root = None\n",
        "\n",
        "  # inserts a new node into tree if node does not exist\n",
        "  def insertNode(self, newNode):\n",
        "    pass\n",
        "\n",
        "  # finds maximum val in dth dimension\n",
        "  def findMaxD(self, d, depth):\n",
        "    pass\n",
        "  \n",
        "  def findMinD(self, d, depth):\n",
        "    pass\n",
        "\n",
        "  def deleteNode(self, nodeId):\n",
        "    pass"
      ],
      "metadata": {
        "id": "Tok3cvb4PdK3"
      },
      "execution_count": null,
      "outputs": []
    },
    {
      "cell_type": "markdown",
      "source": [
        "Flask Code"
      ],
      "metadata": {
        "id": "6JRUblOkzhKK"
      }
    },
    {
      "cell_type": "code",
      "source": [
        "# from flask import Flask\n",
        "# app = Flask(__name__)\n",
        "\n",
        "# @app.route('/')\n",
        "# def index():\n",
        "#   return f\"<h1> Hello World! </h1> \""
      ],
      "metadata": {
        "id": "COgq3f4Wv5Nr"
      },
      "execution_count": null,
      "outputs": []
    },
    {
      "cell_type": "code",
      "source": [
        "# app.run(debug=True)"
      ],
      "metadata": {
        "id": "GQ3wbwMZwaKy"
      },
      "execution_count": null,
      "outputs": []
    }
  ]
}